{
  "nbformat": 4,
  "nbformat_minor": 0,
  "metadata": {
    "colab": {
      "provenance": [],
      "gpuType": "T4",
      "include_colab_link": true
    },
    "kernelspec": {
      "name": "python3",
      "display_name": "Python 3"
    },
    "language_info": {
      "name": "python"
    },
    "accelerator": "GPU"
  },
  "cells": [
    {
      "cell_type": "markdown",
      "metadata": {
        "id": "view-in-github",
        "colab_type": "text"
      },
      "source": [
        "<a href=\"https://colab.research.google.com/github/AbhishekHazraIITB26/NLP-LS/blob/main/Copy_of_NN_using_PyTorch_(Graded).ipynb\" target=\"_parent\"><img src=\"https://colab.research.google.com/assets/colab-badge.svg\" alt=\"Open In Colab\"/></a>"
      ]
    },
    {
      "cell_type": "markdown",
      "source": [
        "# **PyTorch Implementation of Neural Networks**\n",
        "In this week's graded assignment, you will implement a neural network that will perform binary classification on a set of images (ie. is or is not).\n",
        "\n",
        "You are to only write/modify the code in between consecutive `# <START>` and `# <END>` comments. DO NOT modify other parts of the notebook, your assignments will not be graded otherwise.\n",
        "\n",
        "```python\n",
        "\"Don't modify any code here\"\n",
        "\n",
        "# <START>\n",
        "\"YOUR CODE GOES HERE!\"\n",
        "# <END>\n",
        "\n",
        "\"Don't modify any code here\"\n",
        "```\n",
        "## **Before you begin**\n",
        "Before you start with the assignment, you will have to upload the images that you will classify to your Google Drive.  \n",
        "You will be able to find the compressed folder named **\"pizza_vs_not\"** on both the GitHub repo and the Week 1 MS Teams channel.  \n",
        "Download the file, unzip it, and then upload it to your Drive.\n",
        "\n",
        "### **Make sure to upload to the same account that you are using on Colab, otherwise you won't be able to access the files**\n"
      ],
      "metadata": {
        "id": "pbwA7e12AVLe"
      }
    },
    {
      "cell_type": "markdown",
      "source": [
        "## **Mounting Google Drive**\n",
        "First, we need to import the dataset of images from your Google Drive. To do so, **run the below cell**. This will mount your Drive to the running Colab instance. Then, you will be able to access all your Google Drive data in this notebook."
      ],
      "metadata": {
        "id": "D0lIe1uahq_L"
      }
    },
    {
      "cell_type": "code",
      "source": [
        "from google.colab import drive\n",
        "drive.mount('/content/drive')"
      ],
      "metadata": {
        "id": "ObnNbRJPQrYK",
        "colab": {
          "base_uri": "https://localhost:8080/"
        },
        "outputId": "1a25a12a-26b0-43ca-e83e-ebd444272ae6"
      },
      "execution_count": null,
      "outputs": [
        {
          "output_type": "stream",
          "name": "stdout",
          "text": [
            "Mounted at /content/drive\n"
          ]
        }
      ]
    },
    {
      "cell_type": "markdown",
      "source": [
        "## **Import the Libraries**\n",
        "\n",
        "Run the cell below to import all the necessary libraries for building the neural network using PyTorch.  \n",
        "You will primarily use the **`nn` module** of the **PyTorch** library for building the neural network."
      ],
      "metadata": {
        "id": "ElYLMOGFBq1r"
      }
    },
    {
      "cell_type": "code",
      "execution_count": null,
      "metadata": {
        "id": "1ZVxJx87kAAN"
      },
      "outputs": [],
      "source": [
        "import os\n",
        "import numpy as np\n",
        "import torch\n",
        "import torch.nn as nn\n",
        "import matplotlib.pyplot as plt\n",
        "import matplotlib.image as mpimg\n",
        "%matplotlib inline"
      ]
    },
    {
      "cell_type": "markdown",
      "source": [
        "## **Importing the Dataset**\n",
        "\n",
        "We now need to import the dataset from the Google Drive. Below given is a function named `getdata`, which takes the path of the folder from which data is to be imported as its argument.\n",
        "\n",
        "You are required to give in the path of the folder in which the images of `pizza` and `not_pizza` are saved in your Google Drive. Locate the path using the Colab File Explorer (the file icon in the sidebar).\n",
        "\n",
        "The `getdata` function reads each image stored at the given path and converts and stores it as a PyTorch Tensor.\n",
        "\n",
        "_Note: This cell may take a while to finish running_\n",
        "<details>\n",
        "  <summary>Hint</summary>\n",
        "  The Google Drive was mounted to the location \"/content/drive\", containing the folder \"My Drive\", which corresponds to your actual Google Drive.\n",
        "</details>"
      ],
      "metadata": {
        "id": "GpoxEmvICmNr"
      }
    },
    {
      "cell_type": "code",
      "source": [
        "def getdata(path):\n",
        "  data = torch.tensor([])\n",
        "  file_list = os.listdir(path)\n",
        "  for file_name in file_list[:350]:\n",
        "    image_path = os.path.join(path, file_name)\n",
        "    image = mpimg.imread(image_path)\n",
        "    imageData = torch.from_numpy(image).long()\n",
        "    data = torch.cat((data, imageData.unsqueeze(0)), dim=0)\n",
        "  return data\n",
        "\n",
        "# <START>\n",
        "pizza_path = '/content/drive/MyDrive/pizza_vs_not/pizza'\n",
        "not_pizza_path = '/content/drive/MyDrive/pizza_vs_not/not_pizza'\n",
        "# <END>\n",
        "\n",
        "not_pizza_data = getdata(not_pizza_path)\n",
        "pizza_data = getdata(pizza_path)\n"
      ],
      "metadata": {
        "id": "QvO6vf9cqR5i",
        "colab": {
          "base_uri": "https://localhost:8080/"
        },
        "outputId": "1c2a34d7-c255-410a-b865-b4e6eec8b8c5"
      },
      "execution_count": null,
      "outputs": [
        {
          "output_type": "stream",
          "name": "stderr",
          "text": [
            "<ipython-input-4-83f21a4994f3>:7: UserWarning: The given NumPy array is not writable, and PyTorch does not support non-writable tensors. This means writing to this tensor will result in undefined behavior. You may want to copy the array to protect its data or make it writable before converting it to a tensor. This type of warning will be suppressed for the rest of this program. (Triggered internally at ../torch/csrc/utils/tensor_numpy.cpp:206.)\n",
            "  imageData = torch.from_numpy(image).long()\n"
          ]
        }
      ]
    },
    {
      "cell_type": "code",
      "source": [
        "pizza_data"
      ],
      "metadata": {
        "collapsed": true,
        "colab": {
          "base_uri": "https://localhost:8080/"
        },
        "id": "hztUZuvWyXYm",
        "outputId": "462c74d6-9c5c-44fb-eaae-d6a78ee8bb85"
      },
      "execution_count": null,
      "outputs": [
        {
          "output_type": "execute_result",
          "data": {
            "text/plain": [
              "tensor([[[[ 29.,  15.,   2.],\n",
              "          [ 31.,  15.,   2.],\n",
              "          [ 34.,  11.,   3.],\n",
              "          ...,\n",
              "          [ 27.,  18.,  23.],\n",
              "          [ 29.,  18.,  22.],\n",
              "          [ 31.,  19.,  23.]],\n",
              "\n",
              "         [[ 33.,  19.,   6.],\n",
              "          [ 32.,  18.,   5.],\n",
              "          [ 34.,  14.,   5.],\n",
              "          ...,\n",
              "          [ 24.,  18.,  22.],\n",
              "          [ 27.,  18.,  21.],\n",
              "          [ 27.,  16.,  20.]],\n",
              "\n",
              "         [[ 28.,  16.,   0.],\n",
              "          [ 31.,  19.,   3.],\n",
              "          [ 35.,  21.,   8.],\n",
              "          ...,\n",
              "          [ 21.,  19.,  20.],\n",
              "          [ 23.,  19.,  20.],\n",
              "          [ 24.,  18.,  20.]],\n",
              "\n",
              "         ...,\n",
              "\n",
              "         [[ 43.,  61.,  49.],\n",
              "          [ 44.,  62.,  50.],\n",
              "          [ 44.,  64.,  52.],\n",
              "          ...,\n",
              "          [ 30.,  35.,  38.],\n",
              "          [ 28.,  31.,  36.],\n",
              "          [ 28.,  31.,  36.]],\n",
              "\n",
              "         [[ 42.,  60.,  48.],\n",
              "          [ 43.,  61.,  49.],\n",
              "          [ 43.,  63.,  51.],\n",
              "          ...,\n",
              "          [ 28.,  34.,  32.],\n",
              "          [ 24.,  30.,  28.],\n",
              "          [ 21.,  27.,  25.]],\n",
              "\n",
              "         [[ 41.,  59.,  47.],\n",
              "          [ 42.,  60.,  48.],\n",
              "          [ 42.,  62.,  50.],\n",
              "          ...,\n",
              "          [ 22.,  28.,  24.],\n",
              "          [ 21.,  27.,  23.],\n",
              "          [ 21.,  27.,  23.]]],\n",
              "\n",
              "\n",
              "        [[[ 91.,  22.,   6.],\n",
              "          [ 86.,  23.,   5.],\n",
              "          [ 78.,  23.,   2.],\n",
              "          ...,\n",
              "          [151., 121.,  97.],\n",
              "          [172., 150., 129.],\n",
              "          [168., 150., 130.]],\n",
              "\n",
              "         [[103.,  31.,   7.],\n",
              "          [104.,  38.,  12.],\n",
              "          [ 90.,  33.,   6.],\n",
              "          ...,\n",
              "          [122.,  88.,  60.],\n",
              "          [154., 130., 104.],\n",
              "          [173., 153., 129.]],\n",
              "\n",
              "         [[121.,  45.,   9.],\n",
              "          [118.,  46.,   8.],\n",
              "          [110.,  45.,   7.],\n",
              "          ...,\n",
              "          [134.,  96.,  57.],\n",
              "          [153., 124.,  92.],\n",
              "          [169., 144., 114.]],\n",
              "\n",
              "         ...,\n",
              "\n",
              "         [[159.,  70.,  12.],\n",
              "          [166.,  81.,  24.],\n",
              "          [176.,  95.,  39.],\n",
              "          ...,\n",
              "          [189., 132.,  42.],\n",
              "          [177., 120.,  39.],\n",
              "          [210., 154.,  77.]],\n",
              "\n",
              "         [[138.,  55.,   3.],\n",
              "          [153.,  70.,  18.],\n",
              "          [164.,  81.,  27.],\n",
              "          ...,\n",
              "          [200., 139.,  56.],\n",
              "          [197., 141.,  66.],\n",
              "          [229., 177., 104.]],\n",
              "\n",
              "         [[121.,  39.,   0.],\n",
              "          [138.,  55.,   5.],\n",
              "          [152.,  66.,  15.],\n",
              "          ...,\n",
              "          [212., 149.,  69.],\n",
              "          [229., 175., 103.],\n",
              "          [241., 191., 122.]]],\n",
              "\n",
              "\n",
              "        [[[ 88.,  89., 107.],\n",
              "          [ 85.,  86., 106.],\n",
              "          [ 78.,  79., 107.],\n",
              "          ...,\n",
              "          [186., 205., 222.],\n",
              "          [182., 205., 223.],\n",
              "          [171., 198., 215.]],\n",
              "\n",
              "         [[ 90.,  93., 110.],\n",
              "          [ 87.,  90., 109.],\n",
              "          [ 78.,  82., 107.],\n",
              "          ...,\n",
              "          [222., 241., 255.],\n",
              "          [220., 243., 255.],\n",
              "          [212., 239., 255.]],\n",
              "\n",
              "         [[ 88.,  97., 112.],\n",
              "          [ 87.,  96., 113.],\n",
              "          [ 84.,  90., 112.],\n",
              "          ...,\n",
              "          [217., 237., 248.],\n",
              "          [216., 239., 255.],\n",
              "          [208., 234., 251.]],\n",
              "\n",
              "         ...,\n",
              "\n",
              "         [[ 99., 126., 195.],\n",
              "          [ 99., 128., 196.],\n",
              "          [100., 130., 200.],\n",
              "          ...,\n",
              "          [ 90., 107., 159.],\n",
              "          [ 99., 115., 175.],\n",
              "          [105., 123., 187.]],\n",
              "\n",
              "         [[ 95., 120., 187.],\n",
              "          [ 99., 126., 195.],\n",
              "          [106., 133., 204.],\n",
              "          ...,\n",
              "          [ 96., 114., 164.],\n",
              "          [103., 116., 169.],\n",
              "          [110., 123., 178.]],\n",
              "\n",
              "         [[102., 127., 194.],\n",
              "          [101., 125., 195.],\n",
              "          [105., 132., 203.],\n",
              "          ...,\n",
              "          [ 99., 117., 165.],\n",
              "          [110., 122., 172.],\n",
              "          [112., 122., 173.]]],\n",
              "\n",
              "\n",
              "        ...,\n",
              "\n",
              "\n",
              "        [[[ 87., 146., 236.],\n",
              "          [ 86., 146., 234.],\n",
              "          [ 83., 143., 229.],\n",
              "          ...,\n",
              "          [ 95., 170., 251.],\n",
              "          [ 95., 167., 249.],\n",
              "          [ 95., 166., 248.]],\n",
              "\n",
              "         [[ 82., 143., 234.],\n",
              "          [ 86., 145., 235.],\n",
              "          [ 86., 143., 230.],\n",
              "          ...,\n",
              "          [ 94., 166., 248.],\n",
              "          [ 95., 163., 246.],\n",
              "          [ 95., 163., 246.]],\n",
              "\n",
              "         [[ 86., 151., 243.],\n",
              "          [ 83., 144., 235.],\n",
              "          [ 84., 139., 229.],\n",
              "          ...,\n",
              "          [ 96., 162., 246.],\n",
              "          [ 96., 161., 243.],\n",
              "          [ 97., 159., 242.]],\n",
              "\n",
              "         ...,\n",
              "\n",
              "         [[ 87., 145., 229.],\n",
              "          [ 84., 142., 226.],\n",
              "          [ 81., 138., 225.],\n",
              "          ...,\n",
              "          [165., 214., 254.],\n",
              "          [171., 216., 255.],\n",
              "          [166., 209., 252.]],\n",
              "\n",
              "         [[ 93., 147., 233.],\n",
              "          [ 90., 144., 230.],\n",
              "          [ 88., 142., 230.],\n",
              "          ...,\n",
              "          [162., 216., 254.],\n",
              "          [161., 216., 255.],\n",
              "          [162., 220., 255.]],\n",
              "\n",
              "         [[ 99., 151., 237.],\n",
              "          [ 97., 149., 235.],\n",
              "          [ 92., 146., 234.],\n",
              "          ...,\n",
              "          [160., 216., 253.],\n",
              "          [158., 220., 255.],\n",
              "          [154., 218., 254.]]],\n",
              "\n",
              "\n",
              "        [[[171., 156., 133.],\n",
              "          [174., 156., 136.],\n",
              "          [185., 158., 149.],\n",
              "          ...,\n",
              "          [174., 123.,  68.],\n",
              "          [177., 120.,  67.],\n",
              "          [180., 120.,  68.]],\n",
              "\n",
              "         [[175., 154., 133.],\n",
              "          [178., 155., 137.],\n",
              "          [184., 156., 145.],\n",
              "          ...,\n",
              "          [165., 117.,  68.],\n",
              "          [173., 121.,  73.],\n",
              "          [174., 122.,  74.]],\n",
              "\n",
              "         [[180., 149., 131.],\n",
              "          [185., 153., 138.],\n",
              "          [184., 152., 139.],\n",
              "          ...,\n",
              "          [164., 125.,  82.],\n",
              "          [148., 109.,  68.],\n",
              "          [148., 109.,  68.]],\n",
              "\n",
              "         ...,\n",
              "\n",
              "         [[157., 138., 124.],\n",
              "          [162., 143., 129.],\n",
              "          [166., 147., 133.],\n",
              "          ...,\n",
              "          [163., 115.,  75.],\n",
              "          [166., 111.,  70.],\n",
              "          [165., 108.,  65.]],\n",
              "\n",
              "         [[147., 129., 117.],\n",
              "          [156., 138., 126.],\n",
              "          [163., 145., 133.],\n",
              "          ...,\n",
              "          [174., 121.,  67.],\n",
              "          [176., 123.,  71.],\n",
              "          [159., 106.,  54.]],\n",
              "\n",
              "         [[115.,  97.,  85.],\n",
              "          [135., 117., 105.],\n",
              "          [151., 135., 122.],\n",
              "          ...,\n",
              "          [168., 114.,  52.],\n",
              "          [173., 118.,  61.],\n",
              "          [178., 126.,  69.]]],\n",
              "\n",
              "\n",
              "        [[[ 96.,  78.,  58.],\n",
              "          [ 92.,  75.,  57.],\n",
              "          [ 74.,  57.,  41.],\n",
              "          ...,\n",
              "          [ 42.,  30.,  18.],\n",
              "          [ 46.,  32.,  21.],\n",
              "          [ 58.,  41.,  31.]],\n",
              "\n",
              "         [[ 96.,  78.,  58.],\n",
              "          [100.,  81.,  64.],\n",
              "          [ 72.,  55.,  39.],\n",
              "          ...,\n",
              "          [ 64.,  51.,  42.],\n",
              "          [ 75.,  61.,  52.],\n",
              "          [ 74.,  57.,  49.]],\n",
              "\n",
              "         [[ 67.,  48.,  31.],\n",
              "          [ 65.,  46.,  29.],\n",
              "          [ 77.,  60.,  44.],\n",
              "          ...,\n",
              "          [ 60.,  45.,  38.],\n",
              "          [ 65.,  50.,  45.],\n",
              "          [ 71.,  56.,  51.]],\n",
              "\n",
              "         ...,\n",
              "\n",
              "         [[  9.,   5.,   4.],\n",
              "          [ 12.,  10.,  11.],\n",
              "          [  3.,   6.,  11.],\n",
              "          ...,\n",
              "          [ 62.,  49.,  32.],\n",
              "          [ 72.,  55.,  37.],\n",
              "          [ 68.,  51.,  31.]],\n",
              "\n",
              "         [[  7.,   3.,   0.],\n",
              "          [  9.,   8.,   6.],\n",
              "          [  1.,   5.,   8.],\n",
              "          ...,\n",
              "          [ 58.,  48.,  36.],\n",
              "          [ 62.,  50.,  38.],\n",
              "          [ 33.,  21.,   9.]],\n",
              "\n",
              "         [[ 13.,  10.,   5.],\n",
              "          [  3.,   2.,   0.],\n",
              "          [  8.,  12.,  15.],\n",
              "          ...,\n",
              "          [ 43.,  34.,  25.],\n",
              "          [ 18.,   8.,   0.],\n",
              "          [ 16.,   6.,   0.]]]])"
            ]
          },
          "metadata": {},
          "execution_count": 5
        }
      ]
    },
    {
      "cell_type": "markdown",
      "source": [
        "Using the next cell, you can preview the images you've just loaded"
      ],
      "metadata": {
        "id": "SIucUmRBGaZJ"
      }
    },
    {
      "cell_type": "code",
      "source": [
        "# Change values of index, data\n",
        "# <START>\n",
        "index = 322 # 0 to 349\n",
        "data = not_pizza_data # pizza_data (or) not_pizza_data\n",
        "# <END>\n",
        "\n",
        "plt.imshow(data[index].int())"
      ],
      "metadata": {
        "id": "7a_9TI1zEd7r",
        "colab": {
          "base_uri": "https://localhost:8080/",
          "height": 449
        },
        "outputId": "adfc186f-b803-473c-99f6-06ae6ccc8293"
      },
      "execution_count": null,
      "outputs": [
        {
          "output_type": "execute_result",
          "data": {
            "text/plain": [
              "<matplotlib.image.AxesImage at 0x7dbe5030ebf0>"
            ]
          },
          "metadata": {},
          "execution_count": 8
        },
        {
          "output_type": "display_data",
          "data": {
            "text/plain": [
              "<Figure size 640x480 with 1 Axes>"
            ],
            "image/png": "[encoded data removed]"
          },
          "metadata": {}
        }
      ]
    },
    {
      "cell_type": "markdown",
      "source": [
        "## **Preprocessing the dataset**\n",
        "\n",
        "Before we begin working with the neural network, we need to make sure our data (in this case, $64\\times64$ RGB images) is in a format that neural networks can work with.\n",
        "\n",
        "First, we create a `train_data` collection of images for training the neural network, and another collection `test_data` that will then be used to check the accuracy of the trained neural network. We do this by taking slices of the total data and concatenating them.  "
      ],
      "metadata": {
        "id": "uiKp-IkYDpB_"
      }
    },
    {
      "cell_type": "code",
      "source": [
        "train_data = torch.cat((pizza_data[:300], not_pizza_data[:200]), dim = 0)\n",
        "test_data = torch.cat((pizza_data[300:350], not_pizza_data[200:250]), dim = 0)\n",
        "print(train_data.shape)"
      ],
      "metadata": {
        "id": "qHHnTe3Hq8cr",
        "colab": {
          "base_uri": "https://localhost:8080/"
        },
        "outputId": "9661313b-8fbf-4f39-e9a5-ffc7d7e8e20a"
      },
      "execution_count": null,
      "outputs": [
        {
          "output_type": "stream",
          "name": "stdout",
          "text": [
            "torch.Size([500, 64, 64, 3])\n"
          ]
        }
      ]
    },
    {
      "cell_type": "markdown",
      "source": [
        "Each image is still stored as a $64\\times64\\times3$ tensor ie. a $64\\times64$ array of 3 numbers - the RGB values of the pixel, taking values between **0 to 255**.  \n",
        "You need to flatten the images in both datasets to make *reshaped* data, and normalise them to get the *final* data we will use to train and test the model.\n",
        "\n",
        "<details>\n",
        "  <summary>Hint</summary>\n",
        "  Use the reshape command to flatten the dataset and then normalise the flattened dataset (ie. make sure all the values lie between 0 and 1).\n",
        "</details>"
      ],
      "metadata": {
        "id": "gp5rsLIAEBKa"
      }
    },
    {
      "cell_type": "code",
      "source": [
        "# <START>\n",
        "\n",
        "reshaped_train_data =train_data.view(500,12288)\n",
        "reshaped_test_data =test_data.view(100,12288)\n",
        "\n",
        "final_train_data =reshaped_train_data/255.0\n",
        "final_test_data =reshaped_test_data/255.0\n",
        "\n",
        "# <END>\n",
        "\n",
        "print(final_train_data.shape, final_test_data.shape)"
      ],
      "metadata": {
        "id": "XxdYwPTe3dMr",
        "colab": {
          "base_uri": "https://localhost:8080/"
        },
        "outputId": "2cc0576b-0080-46be-97eb-db06c6bbf377"
      },
      "execution_count": null,
      "outputs": [
        {
          "output_type": "stream",
          "name": "stdout",
          "text": [
            "torch.Size([500, 12288]) torch.Size([100, 12288])\n"
          ]
        }
      ]
    },
    {
      "cell_type": "markdown",
      "source": [
        "Now that you have made two datasets, you need to make their corresponding `labels` Tensors, which store the true output for each image (whether or not it is a pizza).\n",
        "\n",
        "In the `labels` Tensor, use **`1`** for images that belong to `pizza` and **`0`** for `not_pizza`. (Try to use the concatenate function instead of simply using *for* loops for generating the `labels` Tensor !!)\n",
        "\n",
        "**Remember** to ensure that both `train_labels` and `test_labels` are 2D tensors of appropriate dimensions. Otherwise, it can cause issues ahead."
      ],
      "metadata": {
        "id": "CN9sZzmAEhed"
      }
    },
    {
      "cell_type": "code",
      "source": [
        "# <START>\n",
        "\n",
        "train_labels =torch.cat((torch.ones(300,1),torch.zeros(200,1)),dim=0)\n",
        "#print(train_labels)\n",
        "\n",
        "test_labels =torch.cat((torch.ones(50,1),torch.zeros(50,1)),dim=0)\n",
        "\n",
        "# <END>\n",
        "\n",
        "print(train_labels.shape, test_labels.shape)"
      ],
      "metadata": {
        "id": "AB9ngSqaruoK",
        "colab": {
          "base_uri": "https://localhost:8080/"
        },
        "outputId": "74b042cc-ef23-49bd-a751-34c814773b24"
      },
      "execution_count": null,
      "outputs": [
        {
          "output_type": "stream",
          "name": "stdout",
          "text": [
            "torch.Size([500, 1]) torch.Size([100, 1])\n"
          ]
        }
      ]
    },
    {
      "cell_type": "markdown",
      "source": [
        "##**Building the Neural Network**\n",
        "\n",
        "Now, we will start making the actual neural network.\n",
        "\n",
        "First, initialise the hyperparameters of the neural network.  \n",
        "Here, we are going to make a 3 layer neural network (i.e., 1 input layer, 2 hidden layers and 1 output layer). The first hidden layer will have 10 nodes, while the second will have 12.   \n",
        "Enter the number of input parameters, number of nodes of each hidden layer and the number of output parameters."
      ],
      "metadata": {
        "id": "tfcBVaGoFVH-"
      }
    },
    {
      "cell_type": "code",
      "source": [
        "# <START>\n",
        "\n",
        "D_in = 12288\n",
        "H1 =10\n",
        "H2 =12\n",
        "D_out =1\n",
        "\n",
        "# <END>"
      ],
      "metadata": {
        "id": "Nzoq4S8aqY88"
      },
      "execution_count": null,
      "outputs": []
    },
    {
      "cell_type": "markdown",
      "source": [
        "Now you will make the actual model. The Model includes the use of `Linear` function at each layer, alongside non-linear activation functions.\n",
        "\n",
        "We are going to use `ReLU` functions as activation functions for the input and the first hidden layer and `Sigmoid` function for the final output, as we want an output between 0 and 1.\n",
        "\n",
        "(Hint: `Linear`, `ReLU` and `Sigmoid` functions are a part of the `nn` module of the **PyTorch** library)"
      ],
      "metadata": {
        "id": "k99hJnXbGAwS"
      }
    },
    {
      "cell_type": "code",
      "source": [
        "\n",
        "model = torch.nn.Sequential(\n",
        "    # Do not hard-code any values, use the variables from the previous cell\n",
        "    # <START>\n",
        "    torch.nn.Linear(12288, 10),\n",
        "    torch.nn.ReLU(),\n",
        "    torch.nn.Linear(10, 12),\n",
        "    torch.nn.ReLU(),\n",
        "    torch.nn.Linear(12, 1),\n",
        "    torch.nn.Sigmoid()\n",
        "    # <END>\n",
        "\n",
        ")\n"
      ],
      "metadata": {
        "id": "YFA7NWqTqdlu"
      },
      "execution_count": null,
      "outputs": []
    },
    {
      "cell_type": "code",
      "source": [
        "model(final_train_data[0]) #To check if the model works"
      ],
      "metadata": {
        "id": "nkoOyUiYzTGA",
        "colab": {
          "base_uri": "https://localhost:8080/"
        },
        "outputId": "943a7565-ad6e-4648-c0e2-160f7ad8698a"
      },
      "execution_count": null,
      "outputs": [
        {
          "output_type": "execute_result",
          "data": {
            "text/plain": [
              "tensor([0.5615], grad_fn=<SigmoidBackward0>)"
            ]
          },
          "metadata": {},
          "execution_count": 15
        }
      ]
    },
    {
      "cell_type": "markdown",
      "source": [
        "After making the model, we defined the `loss_fn` , i.e., the loss function as the Binary Cross Entropy Loss.\n",
        "\n",
        "Here, you will implement gradient descent.\n",
        "\n",
        "The `learning_rate` is the step size which the neural network takes when it updates the parameters of the network. (Try to explore various values of step size. Values similar to 0.005 are usually suitable). Also play around with the number of `iterations` the gradient descent algorithm needs to take.\n",
        "\n",
        "**Follow the steps given as per the comments.**\n",
        "\n",
        "*Note: When you run the code, it could take about 5 minutes for the network to finish training.*"
      ],
      "metadata": {
        "id": "pI5qXU5fHPG2"
      }
    },
    {
      "cell_type": "code",
      "source": [
        "loss_fn = nn.BCELoss()\n",
        "\n",
        "# <START>\n",
        "\n",
        "learning_rate = 0.007\n",
        "iterations = 30000\n",
        "optimizer = torch.optim.SGD(model.parameters(), lr=learning_rate)\n",
        "\n",
        "for t in range(iterations):\n",
        "\n",
        "    # call the model on the dataset\n",
        "    y_pred =model(final_train_data)\n",
        "\n",
        "    #calculate the loss\n",
        "    loss = loss_fn(y_pred,train_labels)\n",
        "\n",
        "    if t%1000 == 1:\n",
        "        print(loss)\n",
        "    model.zero_grad()\n",
        "    loss.backward()\n",
        "\n",
        "    # Update the values of the parameters\n",
        "    with torch.no_grad():\n",
        "        for param in model.parameters():\n",
        "            param -= learning_rate * param.grad\n",
        "\n",
        "    #calculate the gradients (dont forget to reset the gradients before you begin)\n",
        "\n",
        "# <END>\n",
        "\n",
        "torch.save(model, 'model_best.pt')"
      ],
      "metadata": {
        "id": "WrcyQE-nqgUL",
        "colab": {
          "base_uri": "https://localhost:8080/"
        },
        "outputId": "ce69212f-d0f5-480b-be69-9139faa472fc"
      },
      "execution_count": null,
      "outputs": [
        {
          "output_type": "stream",
          "name": "stdout",
          "text": [
            "tensor(0.3073, grad_fn=<BinaryCrossEntropyBackward0>)\n",
            "tensor(0.0632, grad_fn=<BinaryCrossEntropyBackward0>)\n",
            "tensor(0.0156, grad_fn=<BinaryCrossEntropyBackward0>)\n",
            "tensor(0.0062, grad_fn=<BinaryCrossEntropyBackward0>)\n",
            "tensor(0.0036, grad_fn=<BinaryCrossEntropyBackward0>)\n",
            "tensor(0.0024, grad_fn=<BinaryCrossEntropyBackward0>)\n",
            "tensor(0.0018, grad_fn=<BinaryCrossEntropyBackward0>)\n",
            "tensor(0.0014, grad_fn=<BinaryCrossEntropyBackward0>)\n",
            "tensor(0.0012, grad_fn=<BinaryCrossEntropyBackward0>)\n",
            "tensor(0.0010, grad_fn=<BinaryCrossEntropyBackward0>)\n",
            "tensor(0.0008, grad_fn=<BinaryCrossEntropyBackward0>)\n",
            "tensor(0.0007, grad_fn=<BinaryCrossEntropyBackward0>)\n",
            "tensor(0.0006, grad_fn=<BinaryCrossEntropyBackward0>)\n",
            "tensor(0.0006, grad_fn=<BinaryCrossEntropyBackward0>)\n",
            "tensor(0.0005, grad_fn=<BinaryCrossEntropyBackward0>)\n",
            "tensor(0.0005, grad_fn=<BinaryCrossEntropyBackward0>)\n",
            "tensor(0.0004, grad_fn=<BinaryCrossEntropyBackward0>)\n",
            "tensor(0.0004, grad_fn=<BinaryCrossEntropyBackward0>)\n",
            "tensor(0.0004, grad_fn=<BinaryCrossEntropyBackward0>)\n",
            "tensor(0.0003, grad_fn=<BinaryCrossEntropyBackward0>)\n",
            "tensor(0.0003, grad_fn=<BinaryCrossEntropyBackward0>)\n",
            "tensor(0.0003, grad_fn=<BinaryCrossEntropyBackward0>)\n",
            "tensor(0.0003, grad_fn=<BinaryCrossEntropyBackward0>)\n",
            "tensor(0.0003, grad_fn=<BinaryCrossEntropyBackward0>)\n",
            "tensor(0.0002, grad_fn=<BinaryCrossEntropyBackward0>)\n",
            "tensor(0.0002, grad_fn=<BinaryCrossEntropyBackward0>)\n",
            "tensor(0.0002, grad_fn=<BinaryCrossEntropyBackward0>)\n",
            "tensor(0.0002, grad_fn=<BinaryCrossEntropyBackward0>)\n",
            "tensor(0.0002, grad_fn=<BinaryCrossEntropyBackward0>)\n",
            "tensor(0.0002, grad_fn=<BinaryCrossEntropyBackward0>)\n"
          ]
        }
      ]
    },
    {
      "cell_type": "markdown",
      "source": [
        "## **Checking the Results**\n",
        "Now that we have used the training set to train the network, we shall use the test set to check how the neural network performs with new inputs."
      ],
      "metadata": {
        "id": "uT_u2Q_EJ4ki"
      }
    },
    {
      "cell_type": "code",
      "source": [
        "# Change values of index\n",
        "# <START>\n",
        "index = 89#0 to 99\n",
        "# <END>\n",
        "\n",
        "plt.imshow(test_data[index].int())\n",
        "print (f'According to the neural network, index = {index} is {\"a pizza\" if model(final_test_data[index]) > 0.5 else \"not a pizza\"}' )"
      ],
      "metadata": {
        "id": "Ykt2FcjfHW0S",
        "colab": {
          "base_uri": "https://localhost:8080/",
          "height": 449
        },
        "outputId": "7bc9797c-df06-4c8f-9004-e0472ffc42c4"
      },
      "execution_count": null,
      "outputs": [
        {
          "output_type": "stream",
          "name": "stdout",
          "text": [
            "According to the neural network, index = 89 is not a pizza\n"
          ]
        },
        {
          "output_type": "display_data",
          "data": {
            "text/plain": [
              "<Figure size 640x480 with 1 Axes>"
            ],
            "image/png": "[encoded data removed]"
          },
          "metadata": {}
        }
      ]
    },
    {
      "cell_type": "markdown",
      "source": [
        "To quantize how accurately the neural network is able to classify images, we have defined a helper `predict` function that takes a dataset and returns the fraction of times the neural network correctly classified the image.  \n",
        "\n",
        "Complete the function such that it prints the correct accuracy of its predictions."
      ],
      "metadata": {
        "id": "3fQcWl1rHcuL"
      }
    },
    {
      "cell_type": "code",
      "source": [
        "def predict(model, data, labels):\n",
        "\n",
        "    probabilities = model(data)\n",
        "\n",
        "    # <START>\n",
        "\n",
        "    # generate the predictions tensor using the probabilities variable, which indicates the prediction made by the model for the given data using 0 and 1\n",
        "\n",
        "    predictions =(probabilities>0.5).float()\n",
        "\n",
        "    # <END>\n",
        "\n",
        "    print(\"Accuracy: \"  + str(torch.sum((predictions == labels)).item()/predictions.shape[0]))"
      ],
      "metadata": {
        "id": "RFwT6ARBs7gT"
      },
      "execution_count": null,
      "outputs": []
    },
    {
      "cell_type": "markdown",
      "source": [
        "**Run** the cell below to find out the accuracy of your model for the training and test datasets."
      ],
      "metadata": {
        "id": "7PVdX70uLUY9"
      }
    },
    {
      "cell_type": "code",
      "source": [
        "predict(model, final_train_data, train_labels)\n",
        "predict(model,final_test_data,test_labels)\n",
        "print(\"Done!\")"
      ],
      "metadata": {
        "id": "V_iNzulpYpHH",
        "colab": {
          "base_uri": "https://localhost:8080/"
        },
        "outputId": "06bb446a-dbf0-4054-f65c-3dce86c57c13"
      },
      "execution_count": null,
      "outputs": [
        {
          "output_type": "stream",
          "name": "stdout",
          "text": [
            "Accuracy: 1.0\n",
            "Accuracy: 0.73\n",
            "Done!\n"
          ]
        }
      ]
    },
    {
      "cell_type": "markdown",
      "source": [
        "## **Extra Content (Optional)**\n",
        "##### **These are extra exercises you can try after submitting the assignment, for you to try on your own. Feel free to approach us with any doubts, but DO NOT make these changes to the notebook before you submit**\n",
        "- Try varying things like the number and size of the hidden layers, and seeing how that affects the accuracy of the network.\n",
        "- Along with `pizza` and `not_pizza`, you should see another folder `other_dishes` in the dataset. Try using it in place of `not_pizza`. What changes do you see? Why do you think this happens?"
      ],
      "metadata": {
        "id": "DYae7InELIF6"
      }
    }
  ]
}